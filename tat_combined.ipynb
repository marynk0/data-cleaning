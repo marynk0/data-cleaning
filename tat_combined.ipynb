{
 "cells": [
  {
   "cell_type": "code",
   "execution_count": 1,
   "id": "93b516c1",
   "metadata": {},
   "outputs": [],
   "source": [
    "import pandas as pd\n",
    "df_tat = pd.read_csv(\"G:\\\\Geo Spartial Analysis\\\\TAT_Command_Centre(Aug & Sep).csv\")"
   ]
  },
  {
   "cell_type": "code",
   "execution_count": 2,
   "id": "5ef47248",
   "metadata": {},
   "outputs": [
    {
     "data": {
      "text/html": [
       "<div>\n",
       "<style scoped>\n",
       "    .dataframe tbody tr th:only-of-type {\n",
       "        vertical-align: middle;\n",
       "    }\n",
       "\n",
       "    .dataframe tbody tr th {\n",
       "        vertical-align: top;\n",
       "    }\n",
       "\n",
       "    .dataframe thead th {\n",
       "        text-align: right;\n",
       "    }\n",
       "</style>\n",
       "<table border=\"1\" class=\"dataframe\">\n",
       "  <thead>\n",
       "    <tr style=\"text-align: right;\">\n",
       "      <th></th>\n",
       "      <th>Branch</th>\n",
       "      <th>Truck number</th>\n",
       "      <th>Vehicle Capacity</th>\n",
       "      <th>Drivers</th>\n",
       "      <th>Route</th>\n",
       "      <th>Depature</th>\n",
       "      <th>No. of customers</th>\n",
       "      <th>Time</th>\n",
       "      <th>Kms at 1st Drop</th>\n",
       "      <th>Time at 1st Drop</th>\n",
       "      <th>1st Drop to Last Drop Kms</th>\n",
       "      <th>Total Kms</th>\n",
       "      <th>Tonnage</th>\n",
       "      <th>Arrival</th>\n",
       "      <th>Time Take in MKT</th>\n",
       "      <th>Hours In Mkt</th>\n",
       "    </tr>\n",
       "  </thead>\n",
       "  <tbody>\n",
       "    <tr>\n",
       "      <th>0</th>\n",
       "      <td>KISUMU</td>\n",
       "      <td>KDA 253R</td>\n",
       "      <td>10T</td>\n",
       "      <td>David Kiptoo</td>\n",
       "      <td>KISUMU-KAKAMEGA</td>\n",
       "      <td>01/08/2023 06:41</td>\n",
       "      <td>51</td>\n",
       "      <td>45139.32361</td>\n",
       "      <td>22.78</td>\n",
       "      <td>45140.68403</td>\n",
       "      <td>315.03</td>\n",
       "      <td>337.8</td>\n",
       "      <td>7245.6</td>\n",
       "      <td>02/08/2023 20:51</td>\n",
       "      <td>14:10</td>\n",
       "      <td>38.166667</td>\n",
       "    </tr>\n",
       "    <tr>\n",
       "      <th>1</th>\n",
       "      <td>KISUMU</td>\n",
       "      <td>KDL 077K</td>\n",
       "      <td>10T</td>\n",
       "      <td>Moses Oloo</td>\n",
       "      <td>BUSIA-MALABA</td>\n",
       "      <td>01/08/2023 06:53</td>\n",
       "      <td>29</td>\n",
       "      <td>45139.33472</td>\n",
       "      <td>124.74</td>\n",
       "      <td>45140.6875</td>\n",
       "      <td>1618.06</td>\n",
       "      <td>1742.8</td>\n",
       "      <td>7562.32</td>\n",
       "      <td>02/08/2023 17:02</td>\n",
       "      <td>10:09</td>\n",
       "      <td>34.150000</td>\n",
       "    </tr>\n",
       "    <tr>\n",
       "      <th>2</th>\n",
       "      <td>KISUMU</td>\n",
       "      <td>KCW 610E</td>\n",
       "      <td>10T</td>\n",
       "      <td>Patrick Otieno</td>\n",
       "      <td>SONDU-KAPSABET</td>\n",
       "      <td>01/08/2023 07:04</td>\n",
       "      <td>38</td>\n",
       "      <td>45139.32361</td>\n",
       "      <td>16.46</td>\n",
       "      <td>45140.61597</td>\n",
       "      <td>293.58</td>\n",
       "      <td>464.52</td>\n",
       "      <td>6311.9</td>\n",
       "      <td>02/08/2023 21:22</td>\n",
       "      <td>14:18</td>\n",
       "      <td>38.300000</td>\n",
       "    </tr>\n",
       "    <tr>\n",
       "      <th>3</th>\n",
       "      <td>KISUMU</td>\n",
       "      <td>KDB 209S</td>\n",
       "      <td>10T</td>\n",
       "      <td>David Kipkirui</td>\n",
       "      <td>KISUMUCBD</td>\n",
       "      <td>01/08/2023 08:03</td>\n",
       "      <td>31</td>\n",
       "      <td>45139.34792</td>\n",
       "      <td>6</td>\n",
       "      <td>45140.84583</td>\n",
       "      <td>96.88</td>\n",
       "      <td>105.02</td>\n",
       "      <td>8890.7</td>\n",
       "      <td>02/08/2023 20:52</td>\n",
       "      <td>12:49</td>\n",
       "      <td>36.816667</td>\n",
       "    </tr>\n",
       "    <tr>\n",
       "      <th>4</th>\n",
       "      <td>KISUMU</td>\n",
       "      <td>KDK 158N</td>\n",
       "      <td>10T</td>\n",
       "      <td>George Kinyua</td>\n",
       "      <td>SONDU-KAPSABET</td>\n",
       "      <td>02/08/2023 07:32</td>\n",
       "      <td>40</td>\n",
       "      <td>45140.36458</td>\n",
       "      <td>26.64</td>\n",
       "      <td>45142.81875</td>\n",
       "      <td>351.75</td>\n",
       "      <td>378.31</td>\n",
       "      <td>8955.9</td>\n",
       "      <td>04/08/2023 07:11</td>\n",
       "      <td>23:39</td>\n",
       "      <td>47.650000</td>\n",
       "    </tr>\n",
       "  </tbody>\n",
       "</table>\n",
       "</div>"
      ],
      "text/plain": [
       "   Branch Truck number Vehicle Capacity         Drivers            Route  \\\n",
       "0  KISUMU     KDA 253R              10T    David Kiptoo  KISUMU-KAKAMEGA   \n",
       "1  KISUMU     KDL 077K              10T      Moses Oloo     BUSIA-MALABA   \n",
       "2  KISUMU     KCW 610E              10T  Patrick Otieno   SONDU-KAPSABET   \n",
       "3  KISUMU     KDB 209S              10T  David Kipkirui        KISUMUCBD   \n",
       "4  KISUMU     KDK 158N              10T   George Kinyua   SONDU-KAPSABET   \n",
       "\n",
       "           Depature No. of customers         Time Kms at 1st Drop  \\\n",
       "0  01/08/2023 06:41               51  45139.32361           22.78   \n",
       "1  01/08/2023 06:53               29  45139.33472          124.74   \n",
       "2  01/08/2023 07:04               38  45139.32361           16.46   \n",
       "3  01/08/2023 08:03               31  45139.34792               6   \n",
       "4  02/08/2023 07:32               40  45140.36458           26.64   \n",
       "\n",
       "  Time at 1st Drop 1st Drop to Last Drop Kms Total Kms  Tonnage  \\\n",
       "0      45140.68403                    315.03     337.8   7245.6   \n",
       "1       45140.6875                   1618.06    1742.8  7562.32   \n",
       "2      45140.61597                    293.58    464.52   6311.9   \n",
       "3      45140.84583                     96.88    105.02   8890.7   \n",
       "4      45142.81875                    351.75    378.31   8955.9   \n",
       "\n",
       "            Arrival Time Take in MKT  Hours In Mkt  \n",
       "0  02/08/2023 20:51            14:10     38.166667  \n",
       "1  02/08/2023 17:02            10:09     34.150000  \n",
       "2  02/08/2023 21:22            14:18     38.300000  \n",
       "3  02/08/2023 20:52            12:49     36.816667  \n",
       "4  04/08/2023 07:11            23:39     47.650000  "
      ]
     },
     "execution_count": 2,
     "metadata": {},
     "output_type": "execute_result"
    }
   ],
   "source": [
    "df_tat.head()"
   ]
  },
  {
   "cell_type": "code",
   "execution_count": 3,
   "id": "8907c48d",
   "metadata": {},
   "outputs": [
    {
     "data": {
      "text/plain": [
       "(2675, 16)"
      ]
     },
     "execution_count": 3,
     "metadata": {},
     "output_type": "execute_result"
    }
   ],
   "source": [
    "df_tat.shape"
   ]
  },
  {
   "cell_type": "code",
   "execution_count": 4,
   "id": "03d9c59b",
   "metadata": {},
   "outputs": [
    {
     "name": "stdout",
     "output_type": "stream",
     "text": [
      "['10T' '5T' '14T' 'Tuktuk' '28T' 'Van']\n"
     ]
    }
   ],
   "source": [
    "unique_values = df_tat['Vehicle Capacity'].unique()\n",
    "print(unique_values)"
   ]
  },
  {
   "cell_type": "code",
   "execution_count": 5,
   "id": "7885e876",
   "metadata": {},
   "outputs": [
    {
     "name": "stdout",
     "output_type": "stream",
     "text": [
      "     Truck number Vehicle Capacity  TruckNumberIsValid ReplacedVehicleCapacity\n",
      "0        KDA 253R              10T               False                     10T\n",
      "1        KDL 077K              10T               False                     10T\n",
      "2        KCW 610E              10T               False                     10T\n",
      "3        KDB 209S              10T               False                     10T\n",
      "4        KDK 158N              10T               False                     10T\n",
      "...           ...              ...                 ...                     ...\n",
      "2670    KTWC 173U           Tuktuk                True                  Tuktuk\n",
      "2671    KTWC 173U           Tuktuk                True                  Tuktuk\n",
      "2672    KTWC 173U           Tuktuk                True                  Tuktuk\n",
      "2673    KTWC 173U           Tuktuk                True                  Tuktuk\n",
      "2674    KTWC 173U           Tuktuk                True                  Tuktuk\n",
      "\n",
      "[2675 rows x 4 columns]\n"
     ]
    }
   ],
   "source": [
    "import re\n",
    "def check_formats_and_replace_tuktuk(truck_number, vehicle_capacity):\n",
    "    # Check if the truck number matches the format \"KTWC ###U\"\n",
    "    truck_number_regex = r'^KTWC \\d{3}[A-Z]$'\n",
    "    if re.match(truck_number_regex, truck_number):\n",
    "        return True, \"Tuktuk\"\n",
    "\n",
    "    # Check the truck number format.\n",
    "    truck_number_regex = r'^[A-Z]{4}\\s[0-9]{3}[A-Z]$'\n",
    "    if not re.match(truck_number_regex, truck_number):\n",
    "        return False, vehicle_capacity\n",
    "\n",
    "    # Check the vehicle capacity format.\n",
    "    vehicle_capacity_regex = r'^[0-9]+$'\n",
    "    if re.match(vehicle_capacity_regex, vehicle_capacity):\n",
    "        return True, vehicle_capacity\n",
    "    elif vehicle_capacity == \"Tuktuk\":\n",
    "        return True, \"Tuktuk\"\n",
    "    else:\n",
    "        return False, vehicle_capacity\n",
    "\n",
    "# Apply the function to the DataFrame to create new columns\n",
    "df_tat['TruckNumberIsValid'], df_tat['ReplacedVehicleCapacity'] = zip(*df_tat.apply(lambda row: check_formats_and_replace_tuktuk(row['Truck number'], row['Vehicle Capacity']), axis=1))\n",
    "df_tat['Vehicle Capacity'] = df_tat[ 'ReplacedVehicleCapacity']\n",
    "# Display the DataFrame to see the output\n",
    "print(df_tat[['Truck number', 'Vehicle Capacity', 'TruckNumberIsValid', 'ReplacedVehicleCapacity']])\n"
   ]
  },
  {
   "cell_type": "code",
   "execution_count": 6,
   "id": "96e5f0bc",
   "metadata": {},
   "outputs": [
    {
     "name": "stdout",
     "output_type": "stream",
     "text": [
      "['10T' '5T' '14T' 'Tuktuk' '28T' 'Van']\n"
     ]
    }
   ],
   "source": [
    "unique_values = df_tat['Vehicle Capacity'].unique()\n",
    "print(unique_values)"
   ]
  },
  {
   "cell_type": "code",
   "execution_count": 7,
   "id": "a8ea9268",
   "metadata": {},
   "outputs": [],
   "source": [
    "# Drop specific columns\n",
    "columns_to_drop = ['Truck number', 'Drivers', 'Time', 'Kms at 1st Drop', 'Time at 1st Drop', '1st Drop to Last Drop Kms', 'Arrival', 'Hours In Mkt', 'TruckNumberIsValid', 'ReplacedVehicleCapacity']\n",
    "df_tat.drop(columns=columns_to_drop, inplace=True)\n",
    "\n",
    "# Drop rows with any null values\n",
    "df_tat.dropna(inplace=True)"
   ]
  },
  {
   "cell_type": "code",
   "execution_count": 8,
   "id": "41640a30",
   "metadata": {
    "scrolled": true
   },
   "outputs": [
    {
     "data": {
      "text/html": [
       "<div>\n",
       "<style scoped>\n",
       "    .dataframe tbody tr th:only-of-type {\n",
       "        vertical-align: middle;\n",
       "    }\n",
       "\n",
       "    .dataframe tbody tr th {\n",
       "        vertical-align: top;\n",
       "    }\n",
       "\n",
       "    .dataframe thead th {\n",
       "        text-align: right;\n",
       "    }\n",
       "</style>\n",
       "<table border=\"1\" class=\"dataframe\">\n",
       "  <thead>\n",
       "    <tr style=\"text-align: right;\">\n",
       "      <th></th>\n",
       "      <th>Branch</th>\n",
       "      <th>Vehicle Capacity</th>\n",
       "      <th>Route</th>\n",
       "      <th>Depature</th>\n",
       "      <th>No. of customers</th>\n",
       "      <th>Total Kms</th>\n",
       "      <th>Tonnage</th>\n",
       "      <th>Time Take in MKT</th>\n",
       "    </tr>\n",
       "  </thead>\n",
       "  <tbody>\n",
       "    <tr>\n",
       "      <th>0</th>\n",
       "      <td>KISUMU</td>\n",
       "      <td>10T</td>\n",
       "      <td>KISUMU-KAKAMEGA</td>\n",
       "      <td>01/08/2023 06:41</td>\n",
       "      <td>51</td>\n",
       "      <td>337.8</td>\n",
       "      <td>7245.6</td>\n",
       "      <td>14:10</td>\n",
       "    </tr>\n",
       "    <tr>\n",
       "      <th>1</th>\n",
       "      <td>KISUMU</td>\n",
       "      <td>10T</td>\n",
       "      <td>BUSIA-MALABA</td>\n",
       "      <td>01/08/2023 06:53</td>\n",
       "      <td>29</td>\n",
       "      <td>1742.8</td>\n",
       "      <td>7562.32</td>\n",
       "      <td>10:09</td>\n",
       "    </tr>\n",
       "    <tr>\n",
       "      <th>2</th>\n",
       "      <td>KISUMU</td>\n",
       "      <td>10T</td>\n",
       "      <td>SONDU-KAPSABET</td>\n",
       "      <td>01/08/2023 07:04</td>\n",
       "      <td>38</td>\n",
       "      <td>464.52</td>\n",
       "      <td>6311.9</td>\n",
       "      <td>14:18</td>\n",
       "    </tr>\n",
       "    <tr>\n",
       "      <th>3</th>\n",
       "      <td>KISUMU</td>\n",
       "      <td>10T</td>\n",
       "      <td>KISUMUCBD</td>\n",
       "      <td>01/08/2023 08:03</td>\n",
       "      <td>31</td>\n",
       "      <td>105.02</td>\n",
       "      <td>8890.7</td>\n",
       "      <td>12:49</td>\n",
       "    </tr>\n",
       "    <tr>\n",
       "      <th>4</th>\n",
       "      <td>KISUMU</td>\n",
       "      <td>10T</td>\n",
       "      <td>SONDU-KAPSABET</td>\n",
       "      <td>02/08/2023 07:32</td>\n",
       "      <td>40</td>\n",
       "      <td>378.31</td>\n",
       "      <td>8955.9</td>\n",
       "      <td>23:39</td>\n",
       "    </tr>\n",
       "  </tbody>\n",
       "</table>\n",
       "</div>"
      ],
      "text/plain": [
       "   Branch Vehicle Capacity            Route          Depature  \\\n",
       "0  KISUMU              10T  KISUMU-KAKAMEGA  01/08/2023 06:41   \n",
       "1  KISUMU              10T     BUSIA-MALABA  01/08/2023 06:53   \n",
       "2  KISUMU              10T   SONDU-KAPSABET  01/08/2023 07:04   \n",
       "3  KISUMU              10T        KISUMUCBD  01/08/2023 08:03   \n",
       "4  KISUMU              10T   SONDU-KAPSABET  02/08/2023 07:32   \n",
       "\n",
       "  No. of customers Total Kms  Tonnage Time Take in MKT  \n",
       "0               51     337.8   7245.6            14:10  \n",
       "1               29    1742.8  7562.32            10:09  \n",
       "2               38    464.52   6311.9            14:18  \n",
       "3               31    105.02   8890.7            12:49  \n",
       "4               40    378.31   8955.9            23:39  "
      ]
     },
     "execution_count": 8,
     "metadata": {},
     "output_type": "execute_result"
    }
   ],
   "source": [
    "df_tat.head()"
   ]
  },
  {
   "cell_type": "code",
   "execution_count": 9,
   "id": "e3601830",
   "metadata": {
    "scrolled": false
   },
   "outputs": [
    {
     "name": "stdout",
     "output_type": "stream",
     "text": [
      "Index(['Branch', 'Vehicle Capacity', 'Route', 'Depature', 'No. of customers',\n",
      "       'Total Kms', 'Tonnage', 'Time Take in MKT'],\n",
      "      dtype='object')\n"
     ]
    }
   ],
   "source": [
    "print(df_tat.columns)"
   ]
  },
  {
   "cell_type": "code",
   "execution_count": 12,
   "id": "5e06d6cb",
   "metadata": {},
   "outputs": [
    {
     "name": "stdout",
     "output_type": "stream",
     "text": [
      "   Depature  No. of customers  Total Kms  Tonnage  Time Take in MKT\n",
      "0       NaN              51.0     337.80  7245.60               NaN\n",
      "1       NaN              29.0    1742.80  7562.32               NaN\n",
      "2       NaN              38.0     464.52  6311.90               NaN\n",
      "3       NaN              31.0     105.02  8890.70               NaN\n",
      "4       NaN              40.0     378.31  8955.90               NaN\n"
     ]
    }
   ],
   "source": [
    "# Create a list of the columns to one-hot encode\n",
    "cols_to_one_hot_encode = ['Branch', 'Vehicle Capacity', 'Route']\n",
    "\n",
    "# Perform one-hot encoding on the columns\n",
    "df_tat = pd.get_dummies(df_tat, columns=cols_to_one_hot_encode)\n",
    "\n",
    "# Print the DataFrame\n",
    "print(df_tat.head())"
   ]
  },
  {
   "cell_type": "code",
   "execution_count": 13,
   "id": "dc0085f9",
   "metadata": {},
   "outputs": [
    {
     "name": "stdout",
     "output_type": "stream",
     "text": [
      "                  Depature  No. of customers  Total Kms   Tonnage  \\\n",
      "Depature               NaN               NaN        NaN       NaN   \n",
      "No. of customers       NaN          1.000000   0.033363  0.027776   \n",
      "Total Kms              NaN          0.033363   1.000000  0.003681   \n",
      "Tonnage                NaN          0.027776   0.003681  1.000000   \n",
      "Time Take in MKT       NaN               NaN        NaN       NaN   \n",
      "\n",
      "                  Time Take in MKT  \n",
      "Depature                       NaN  \n",
      "No. of customers               NaN  \n",
      "Total Kms                      NaN  \n",
      "Tonnage                        NaN  \n",
      "Time Take in MKT               NaN  \n"
     ]
    }
   ],
   "source": [
    "# Convert all of the columns to numeric\n",
    "df_tat = df_tat.apply(pd.to_numeric, errors='coerce')\n",
    "\n",
    "# Calculate the correlation between the columns\n",
    "corr = df_tat.corr()\n",
    "\n",
    "# Print the correlation matrix\n",
    "print(corr)"
   ]
  },
  {
   "cell_type": "code",
   "execution_count": null,
   "id": "95577f69",
   "metadata": {},
   "outputs": [],
   "source": []
  },
  {
   "cell_type": "code",
   "execution_count": null,
   "id": "55725b7d",
   "metadata": {},
   "outputs": [],
   "source": [
    "import matplotlib.pyplot as plt\n",
    "\n",
    "\n",
    "plt.scatter(df_tat['Tonnage'], df_tat['Total Kms'])\n",
    "\n",
    "# Label the axes\n",
    "plt.xlabel('Tonnage')\n",
    "plt.ylabel('Total Kms')\n",
    "\n",
    "# Show the plot\n",
    "plt.show()"
   ]
  },
  {
   "cell_type": "code",
   "execution_count": null,
   "id": "2c13da1c",
   "metadata": {},
   "outputs": [],
   "source": []
  },
  {
   "cell_type": "code",
   "execution_count": null,
   "id": "9b1eed68",
   "metadata": {},
   "outputs": [],
   "source": [
    "from sklearn.model_selection import train_test_split\n",
    "from sklearn.linear_model import LinearRegression\n",
    "\n",
    "# Perform one-hot encoding for 'Branch' and 'Route'\n",
    "df_tat = pd.get_dummies(df_tat, columns=['Branch', 'Route'], drop_first=True)\n",
    "\n",
    "# Perform label encoding for 'Vehicle Capacity'\n",
    "vehicle_capacity_mapping = {\n",
    "    'Tuktuk': 0,\n",
    "    'Van': 1,\n",
    "    '10T': 2,\n",
    "    '5T':3,\n",
    "    '14T':4,\n",
    "    '28T':5\n",
    "}\n",
    "\n",
    "df_tat['Vehicle Capacity'] = df_tat['Vehicle Capacity'].map(vehicle_capacity_mapping)\n",
    "\n",
    "# Now, you can proceed with your multiple linear regression analysis\n",
    "\n",
    "# Split the data into training and test sets.\n",
    "X_train, X_test, y_train, y_test = train_test_split(\n",
    "    df_tat[['Vehicle Capacity', 'Branch', 'Route']],  # Include the encoded columns\n",
    "    df_tat[['No. of customers', 'Time Take in MKT', 'Depature']],\n",
    "    test_size=0.25\n",
    ")\n",
    "\n",
    "# Create and fit the linear regression model\n",
    "model = LinearRegression()\n",
    "model.fit(X_train, y_train)\n",
    "\n",
    "# Perform predictions\n",
    "y_pred = model.predict(X_test)"
   ]
  },
  {
   "cell_type": "code",
   "execution_count": null,
   "id": "8b651fac",
   "metadata": {},
   "outputs": [],
   "source": [
    "print(df_tat.columns)"
   ]
  },
  {
   "cell_type": "code",
   "execution_count": null,
   "id": "f128f379",
   "metadata": {},
   "outputs": [],
   "source": []
  }
 ],
 "metadata": {
  "kernelspec": {
   "display_name": "Python 3 (ipykernel)",
   "language": "python",
   "name": "python3"
  },
  "language_info": {
   "codemirror_mode": {
    "name": "ipython",
    "version": 3
   },
   "file_extension": ".py",
   "mimetype": "text/x-python",
   "name": "python",
   "nbconvert_exporter": "python",
   "pygments_lexer": "ipython3",
   "version": "3.10.9"
  }
 },
 "nbformat": 4,
 "nbformat_minor": 5
}
